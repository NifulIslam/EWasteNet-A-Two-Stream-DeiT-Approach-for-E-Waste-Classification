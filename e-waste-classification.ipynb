{
 "cells": [
  {
   "cell_type": "markdown",
   "id": "7fbb8c2e",
   "metadata": {
    "papermill": {
     "duration": 0.011831,
     "end_time": "2023-06-21T21:10:56.522429",
     "exception": false,
     "start_time": "2023-06-21T21:10:56.510598",
     "status": "completed"
    },
    "tags": []
   },
   "source": [
    "# Basic Imports"
   ]
  },
  {
   "cell_type": "code",
   "execution_count": 1,
   "id": "f6c54227",
   "metadata": {
    "_cell_guid": "b1076dfc-b9ad-4769-8c92-a6c4dae69d19",
    "_uuid": "8f2839f25d086af736a60e9eeb907d3b93b6e0e5",
    "execution": {
     "iopub.execute_input": "2023-06-21T21:10:56.545622Z",
     "iopub.status.busy": "2023-06-21T21:10:56.544816Z",
     "iopub.status.idle": "2023-06-21T21:11:05.196312Z",
     "shell.execute_reply": "2023-06-21T21:11:05.195205Z"
    },
    "papermill": {
     "duration": 8.666531,
     "end_time": "2023-06-21T21:11:05.199519",
     "exception": false,
     "start_time": "2023-06-21T21:10:56.532988",
     "status": "completed"
    },
    "tags": []
   },
   "outputs": [
    {
     "name": "stderr",
     "output_type": "stream",
     "text": [
      "/opt/conda/lib/python3.10/site-packages/tensorflow_io/python/ops/__init__.py:98: UserWarning: unable to load libtensorflow_io_plugins.so: unable to open file: libtensorflow_io_plugins.so, from paths: ['/opt/conda/lib/python3.10/site-packages/tensorflow_io/python/ops/libtensorflow_io_plugins.so']\n",
      "caused by: ['/opt/conda/lib/python3.10/site-packages/tensorflow_io/python/ops/libtensorflow_io_plugins.so: undefined symbol: _ZN3tsl6StatusC1EN10tensorflow5error4CodeESt17basic_string_viewIcSt11char_traitsIcEENS_14SourceLocationE']\n",
      "  warnings.warn(f\"unable to load libtensorflow_io_plugins.so: {e}\")\n",
      "/opt/conda/lib/python3.10/site-packages/tensorflow_io/python/ops/__init__.py:104: UserWarning: file system plugins are not loaded: unable to open file: libtensorflow_io.so, from paths: ['/opt/conda/lib/python3.10/site-packages/tensorflow_io/python/ops/libtensorflow_io.so']\n",
      "caused by: ['/opt/conda/lib/python3.10/site-packages/tensorflow_io/python/ops/libtensorflow_io.so: undefined symbol: _ZTVN10tensorflow13GcsFileSystemE']\n",
      "  warnings.warn(f\"file system plugins are not loaded: {e}\")\n"
     ]
    }
   ],
   "source": [
    "import numpy as np \n",
    "import pandas as pd \n",
    "import os\n",
    "import cv2\n",
    "from PIL import Image\n",
    "from matplotlib import pyplot as plt\n",
    "from tensorflow.keras.layers import Input, Lambda, Dense, Flatten\n",
    "from tensorflow.keras.models import Model\n",
    "from tensorflow.keras.preprocessing import image\n",
    "from tensorflow.keras.preprocessing.image import ImageDataGenerator\n",
    "from tensorflow.keras.models import Sequential\n",
    "import tensorflow as tf \n",
    "from tensorflow.keras.layers import Dense, Dropout, Flatten, Conv2D, MaxPool2D, BatchNormalization,MaxPooling2D,BatchNormalization,\\\n",
    "                        Permute, TimeDistributed, GlobalAveragePooling2D, SeparableConv2D,\\\n",
    "ZeroPadding2D, Convolution2D, ZeroPadding2D, Conv2DTranspose,ReLU, UpSampling2D, Concatenate, Conv2DTranspose, GlobalMaxPooling2D, Activation, Multiply,\\\n",
    "Concatenate,Reshape,Input,concatenate"
   ]
  },
  {
   "cell_type": "markdown",
   "id": "e47cb388",
   "metadata": {
    "papermill": {
     "duration": 0.011725,
     "end_time": "2023-06-21T21:11:05.222943",
     "exception": false,
     "start_time": "2023-06-21T21:11:05.211218",
     "status": "completed"
    },
    "tags": []
   },
   "source": [
    "# Convertinginto Dataframe"
   ]
  },
  {
   "cell_type": "code",
   "execution_count": 2,
   "id": "9379a738",
   "metadata": {
    "execution": {
     "iopub.execute_input": "2023-06-21T21:11:05.249070Z",
     "iopub.status.busy": "2023-06-21T21:11:05.247721Z",
     "iopub.status.idle": "2023-06-21T21:11:05.382926Z",
     "shell.execute_reply": "2023-06-21T21:11:05.381931Z"
    },
    "papermill": {
     "duration": 0.150468,
     "end_time": "2023-06-21T21:11:05.385349",
     "exception": false,
     "start_time": "2023-06-21T21:11:05.234881",
     "status": "completed"
    },
    "tags": []
   },
   "outputs": [],
   "source": [
    "root='/kaggle/input/ewastenet-e-waste-image-classification-dataset/EWasteNet/'\n",
    "data={}\n",
    "for i in os.listdir(root):\n",
    "    for j in os.walk(root+i):\n",
    "        for k in j[2]:\n",
    "            data[root+i+'/'+k]=i"
   ]
  },
  {
   "cell_type": "code",
   "execution_count": 3,
   "id": "ffe07586",
   "metadata": {
    "execution": {
     "iopub.execute_input": "2023-06-21T21:11:05.408534Z",
     "iopub.status.busy": "2023-06-21T21:11:05.407513Z",
     "iopub.status.idle": "2023-06-21T21:11:05.432787Z",
     "shell.execute_reply": "2023-06-21T21:11:05.431776Z"
    },
    "papermill": {
     "duration": 0.039117,
     "end_time": "2023-06-21T21:11:05.435073",
     "exception": false,
     "start_time": "2023-06-21T21:11:05.395956",
     "status": "completed"
    },
    "tags": []
   },
   "outputs": [
    {
     "data": {
      "text/html": [
       "<div>\n",
       "<style scoped>\n",
       "    .dataframe tbody tr th:only-of-type {\n",
       "        vertical-align: middle;\n",
       "    }\n",
       "\n",
       "    .dataframe tbody tr th {\n",
       "        vertical-align: top;\n",
       "    }\n",
       "\n",
       "    .dataframe thead th {\n",
       "        text-align: right;\n",
       "    }\n",
       "</style>\n",
       "<table border=\"1\" class=\"dataframe\">\n",
       "  <thead>\n",
       "    <tr style=\"text-align: right;\">\n",
       "      <th></th>\n",
       "      <th>path</th>\n",
       "      <th>class_</th>\n",
       "    </tr>\n",
       "  </thead>\n",
       "  <tbody>\n",
       "    <tr>\n",
       "      <th>796</th>\n",
       "      <td>/kaggle/input/ewastenet-e-waste-image-classifi...</td>\n",
       "      <td>Keyboards</td>\n",
       "    </tr>\n",
       "    <tr>\n",
       "      <th>90</th>\n",
       "      <td>/kaggle/input/ewastenet-e-waste-image-classifi...</td>\n",
       "      <td>Mouses</td>\n",
       "    </tr>\n",
       "    <tr>\n",
       "      <th>472</th>\n",
       "      <td>/kaggle/input/ewastenet-e-waste-image-classifi...</td>\n",
       "      <td>smartwatch</td>\n",
       "    </tr>\n",
       "    <tr>\n",
       "      <th>448</th>\n",
       "      <td>/kaggle/input/ewastenet-e-waste-image-classifi...</td>\n",
       "      <td>laptop</td>\n",
       "    </tr>\n",
       "    <tr>\n",
       "      <th>414</th>\n",
       "      <td>/kaggle/input/ewastenet-e-waste-image-classifi...</td>\n",
       "      <td>laptop</td>\n",
       "    </tr>\n",
       "    <tr>\n",
       "      <th>...</th>\n",
       "      <td>...</td>\n",
       "      <td>...</td>\n",
       "    </tr>\n",
       "    <tr>\n",
       "      <th>14</th>\n",
       "      <td>/kaggle/input/ewastenet-e-waste-image-classifi...</td>\n",
       "      <td>Mouses</td>\n",
       "    </tr>\n",
       "    <tr>\n",
       "      <th>559</th>\n",
       "      <td>/kaggle/input/ewastenet-e-waste-image-classifi...</td>\n",
       "      <td>Movile</td>\n",
       "    </tr>\n",
       "    <tr>\n",
       "      <th>161</th>\n",
       "      <td>/kaggle/input/ewastenet-e-waste-image-classifi...</td>\n",
       "      <td>microwave</td>\n",
       "    </tr>\n",
       "    <tr>\n",
       "      <th>252</th>\n",
       "      <td>/kaggle/input/ewastenet-e-waste-image-classifi...</td>\n",
       "      <td>TV</td>\n",
       "    </tr>\n",
       "    <tr>\n",
       "      <th>685</th>\n",
       "      <td>/kaggle/input/ewastenet-e-waste-image-classifi...</td>\n",
       "      <td>Movile</td>\n",
       "    </tr>\n",
       "  </tbody>\n",
       "</table>\n",
       "<p>877 rows × 2 columns</p>\n",
       "</div>"
      ],
      "text/plain": [
       "                                                  path      class_\n",
       "796  /kaggle/input/ewastenet-e-waste-image-classifi...   Keyboards\n",
       "90   /kaggle/input/ewastenet-e-waste-image-classifi...      Mouses\n",
       "472  /kaggle/input/ewastenet-e-waste-image-classifi...  smartwatch\n",
       "448  /kaggle/input/ewastenet-e-waste-image-classifi...      laptop\n",
       "414  /kaggle/input/ewastenet-e-waste-image-classifi...      laptop\n",
       "..                                                 ...         ...\n",
       "14   /kaggle/input/ewastenet-e-waste-image-classifi...      Mouses\n",
       "559  /kaggle/input/ewastenet-e-waste-image-classifi...      Movile\n",
       "161  /kaggle/input/ewastenet-e-waste-image-classifi...   microwave\n",
       "252  /kaggle/input/ewastenet-e-waste-image-classifi...          TV\n",
       "685  /kaggle/input/ewastenet-e-waste-image-classifi...      Movile\n",
       "\n",
       "[877 rows x 2 columns]"
      ]
     },
     "execution_count": 3,
     "metadata": {},
     "output_type": "execute_result"
    }
   ],
   "source": [
    "data=pd.DataFrame(data.items(),columns=['path','class_'])\n",
    "data=data.sample(frac=1)\n",
    "data"
   ]
  },
  {
   "cell_type": "code",
   "execution_count": 4,
   "id": "a0c43425",
   "metadata": {
    "execution": {
     "iopub.execute_input": "2023-06-21T21:11:05.460691Z",
     "iopub.status.busy": "2023-06-21T21:11:05.460114Z",
     "iopub.status.idle": "2023-06-21T21:11:05.473722Z",
     "shell.execute_reply": "2023-06-21T21:11:05.472733Z"
    },
    "papermill": {
     "duration": 0.02769,
     "end_time": "2023-06-21T21:11:05.475823",
     "exception": false,
     "start_time": "2023-06-21T21:11:05.448133",
     "status": "completed"
    },
    "tags": []
   },
   "outputs": [
    {
     "data": {
      "text/plain": [
       "Movile        152\n",
       "TV            131\n",
       "laptop        117\n",
       "Keyboards     109\n",
       "Mouses        104\n",
       "microwave     102\n",
       "smartwatch    100\n",
       "camera         62\n",
       "Name: class_, dtype: int64"
      ]
     },
     "execution_count": 4,
     "metadata": {},
     "output_type": "execute_result"
    }
   ],
   "source": [
    "data[\"class_\"].value_counts()"
   ]
  },
  {
   "cell_type": "markdown",
   "id": "fdbf1d0b",
   "metadata": {
    "papermill": {
     "duration": 0.010847,
     "end_time": "2023-06-21T21:11:05.498048",
     "exception": false,
     "start_time": "2023-06-21T21:11:05.487201",
     "status": "completed"
    },
    "tags": []
   },
   "source": [
    "# Data Splitting"
   ]
  },
  {
   "cell_type": "code",
   "execution_count": 5,
   "id": "30ce902b",
   "metadata": {
    "execution": {
     "iopub.execute_input": "2023-06-21T21:11:05.522132Z",
     "iopub.status.busy": "2023-06-21T21:11:05.521200Z",
     "iopub.status.idle": "2023-06-21T21:11:05.527576Z",
     "shell.execute_reply": "2023-06-21T21:11:05.526629Z"
    },
    "papermill": {
     "duration": 0.020713,
     "end_time": "2023-06-21T21:11:05.529797",
     "exception": false,
     "start_time": "2023-06-21T21:11:05.509084",
     "status": "completed"
    },
    "tags": []
   },
   "outputs": [],
   "source": [
    "def split_data(data,ratio):\n",
    "    last=int(len(data)*ratio)\n",
    "    return data[:last], data[last:]\n",
    "train,test=split_data(data,.8)\n",
    "validation,train=split_data(data,.08)"
   ]
  },
  {
   "cell_type": "code",
   "execution_count": 6,
   "id": "6af0591f",
   "metadata": {
    "execution": {
     "iopub.execute_input": "2023-06-21T21:11:05.554965Z",
     "iopub.status.busy": "2023-06-21T21:11:05.553319Z",
     "iopub.status.idle": "2023-06-21T21:11:05.569862Z",
     "shell.execute_reply": "2023-06-21T21:11:05.568918Z"
    },
    "papermill": {
     "duration": 0.030956,
     "end_time": "2023-06-21T21:11:05.572105",
     "exception": false,
     "start_time": "2023-06-21T21:11:05.541149",
     "status": "completed"
    },
    "tags": []
   },
   "outputs": [],
   "source": [
    "train.to_csv('train.csv',index=False)\n",
    "test.to_csv('test.csv',index=False)\n",
    "validation.to_csv('valid.csv',index=False)"
   ]
  },
  {
   "cell_type": "code",
   "execution_count": 7,
   "id": "33aec5ce",
   "metadata": {
    "execution": {
     "iopub.execute_input": "2023-06-21T21:11:05.596599Z",
     "iopub.status.busy": "2023-06-21T21:11:05.595648Z",
     "iopub.status.idle": "2023-06-21T21:11:05.604317Z",
     "shell.execute_reply": "2023-06-21T21:11:05.603353Z"
    },
    "papermill": {
     "duration": 0.022914,
     "end_time": "2023-06-21T21:11:05.606238",
     "exception": false,
     "start_time": "2023-06-21T21:11:05.583324",
     "status": "completed"
    },
    "tags": []
   },
   "outputs": [
    {
     "data": {
      "text/plain": [
       "Movile        144\n",
       "TV            122\n",
       "laptop        104\n",
       "microwave      95\n",
       "Keyboards      95\n",
       "Mouses         94\n",
       "smartwatch     93\n",
       "camera         60\n",
       "Name: class_, dtype: int64"
      ]
     },
     "execution_count": 7,
     "metadata": {},
     "output_type": "execute_result"
    }
   ],
   "source": [
    "train[\"class_\"].value_counts()"
   ]
  },
  {
   "cell_type": "code",
   "execution_count": 8,
   "id": "870a7e38",
   "metadata": {
    "execution": {
     "iopub.execute_input": "2023-06-21T21:11:05.631503Z",
     "iopub.status.busy": "2023-06-21T21:11:05.629903Z",
     "iopub.status.idle": "2023-06-21T21:11:05.638361Z",
     "shell.execute_reply": "2023-06-21T21:11:05.637250Z"
    },
    "papermill": {
     "duration": 0.022483,
     "end_time": "2023-06-21T21:11:05.640340",
     "exception": false,
     "start_time": "2023-06-21T21:11:05.617857",
     "status": "completed"
    },
    "tags": []
   },
   "outputs": [
    {
     "data": {
      "text/plain": [
       "Keyboards     14\n",
       "laptop        13\n",
       "Mouses        10\n",
       "TV             9\n",
       "Movile         8\n",
       "smartwatch     7\n",
       "microwave      7\n",
       "camera         2\n",
       "Name: class_, dtype: int64"
      ]
     },
     "execution_count": 8,
     "metadata": {},
     "output_type": "execute_result"
    }
   ],
   "source": [
    "validation['class_'].value_counts()"
   ]
  },
  {
   "cell_type": "code",
   "execution_count": 9,
   "id": "9a2ce4cd",
   "metadata": {
    "execution": {
     "iopub.execute_input": "2023-06-21T21:11:05.665173Z",
     "iopub.status.busy": "2023-06-21T21:11:05.664291Z",
     "iopub.status.idle": "2023-06-21T21:11:05.672136Z",
     "shell.execute_reply": "2023-06-21T21:11:05.671175Z"
    },
    "papermill": {
     "duration": 0.022458,
     "end_time": "2023-06-21T21:11:05.674214",
     "exception": false,
     "start_time": "2023-06-21T21:11:05.651756",
     "status": "completed"
    },
    "tags": []
   },
   "outputs": [
    {
     "data": {
      "text/plain": [
       "Movile        33\n",
       "TV            31\n",
       "Keyboards     22\n",
       "laptop        21\n",
       "microwave     20\n",
       "Mouses        19\n",
       "camera        16\n",
       "smartwatch    14\n",
       "Name: class_, dtype: int64"
      ]
     },
     "execution_count": 9,
     "metadata": {},
     "output_type": "execute_result"
    }
   ],
   "source": [
    "test['class_'].value_counts()"
   ]
  },
  {
   "cell_type": "markdown",
   "id": "0afb00d4",
   "metadata": {
    "papermill": {
     "duration": 0.011244,
     "end_time": "2023-06-21T21:11:05.696581",
     "exception": false,
     "start_time": "2023-06-21T21:11:05.685337",
     "status": "completed"
    },
    "tags": []
   },
   "source": [
    "# Preprocessing "
   ]
  },
  {
   "cell_type": "code",
   "execution_count": 10,
   "id": "f10cebd6",
   "metadata": {
    "execution": {
     "iopub.execute_input": "2023-06-21T21:11:05.721517Z",
     "iopub.status.busy": "2023-06-21T21:11:05.721158Z",
     "iopub.status.idle": "2023-06-21T21:11:05.763901Z",
     "shell.execute_reply": "2023-06-21T21:11:05.762666Z"
    },
    "papermill": {
     "duration": 0.058033,
     "end_time": "2023-06-21T21:11:05.766220",
     "exception": false,
     "start_time": "2023-06-21T21:11:05.708187",
     "status": "completed"
    },
    "tags": []
   },
   "outputs": [
    {
     "name": "stdout",
     "output_type": "stream",
     "text": [
      "Found 806 validated image filenames belonging to 8 classes.\n",
      "Found 70 validated image filenames belonging to 8 classes.\n",
      "Found 175 validated image filenames belonging to 8 classes.\n"
     ]
    },
    {
     "name": "stderr",
     "output_type": "stream",
     "text": [
      "/opt/conda/lib/python3.10/site-packages/keras/preprocessing/image.py:1137: UserWarning: Found 1 invalid image filename(s) in x_col=\"path\". These filename(s) will be ignored.\n",
      "  warnings.warn(\n",
      "/opt/conda/lib/python3.10/site-packages/keras/preprocessing/image.py:1137: UserWarning: Found 1 invalid image filename(s) in x_col=\"path\". These filename(s) will be ignored.\n",
      "  warnings.warn(\n"
     ]
    }
   ],
   "source": [
    "size=384\n",
    "batch_size=4\n",
    "train_datagen = ImageDataGenerator(\n",
    "    rescale=1.0 / 255,\n",
    "    rotation_range=40,\n",
    "    width_shift_range=0.2,\n",
    "    height_shift_range=0.2,\n",
    "    shear_range=0.2,\n",
    "    zoom_range=0.2,\n",
    "    horizontal_flip=True,\n",
    "    fill_mode=\"nearest\",\n",
    ")\n",
    "train_images = train_datagen.flow_from_dataframe(\n",
    "    dataframe=train,\n",
    "    x_col='path',\n",
    "    y_col='class_',\n",
    "    batch_size=batch_size,\n",
    "    target_size=(size, size),\n",
    "    color_mode='rgb',\n",
    "    class_mode='categorical',\n",
    "    shuffle=True,\n",
    "    seed=42,\n",
    ")\n",
    "\n",
    "valid_generator = ImageDataGenerator(\n",
    "    rescale=1.0 / 255,\n",
    ")\n",
    "valid_images = valid_generator.flow_from_dataframe(\n",
    "    dataframe=validation,\n",
    "    x_col='path',\n",
    "    y_col='class_',\n",
    "    target_size=(size, size),\n",
    "    color_mode='rgb',\n",
    "    class_mode='categorical',\n",
    "    batch_size=batch_size,\n",
    "    shuffle=False,\n",
    "    subset='training'\n",
    ")\n",
    "\n",
    "test_generator = ImageDataGenerator(\n",
    "    rescale=1.0 / 255,\n",
    ")\n",
    "test_images = test_generator.flow_from_dataframe(\n",
    "    dataframe=test,\n",
    "    x_col='path',\n",
    "    y_col='class_',\n",
    "    target_size=(size, size),\n",
    "    color_mode='rgb',\n",
    "    class_mode='categorical',\n",
    "    batch_size=batch_size,\n",
    "    shuffle=False,\n",
    "    subset='training'\n",
    ")"
   ]
  },
  {
   "cell_type": "markdown",
   "id": "0462050d",
   "metadata": {
    "papermill": {
     "duration": 0.011823,
     "end_time": "2023-06-21T21:11:05.790064",
     "exception": false,
     "start_time": "2023-06-21T21:11:05.778241",
     "status": "completed"
    },
    "tags": []
   },
   "source": [
    "# Importing DeiT from Tensorflow Hub"
   ]
  },
  {
   "cell_type": "code",
   "execution_count": 11,
   "id": "f08de9a3",
   "metadata": {
    "execution": {
     "iopub.execute_input": "2023-06-21T21:11:05.815048Z",
     "iopub.status.busy": "2023-06-21T21:11:05.814687Z",
     "iopub.status.idle": "2023-06-21T21:11:06.385304Z",
     "shell.execute_reply": "2023-06-21T21:11:06.384342Z"
    },
    "papermill": {
     "duration": 0.585848,
     "end_time": "2023-06-21T21:11:06.387811",
     "exception": false,
     "start_time": "2023-06-21T21:11:05.801963",
     "status": "completed"
    },
    "tags": []
   },
   "outputs": [],
   "source": [
    "import tensorflow_hub as hub\n",
    "def get_from_hub(model_url,size=384):\n",
    "    inputs = tf.keras.Input((size, size, 3))\n",
    "    hub_module = hub.KerasLayer(model_url,trainable=False)\n",
    "    outputs = hub_module(inputs)\n",
    "    return tf.keras.Model(inputs, outputs)"
   ]
  },
  {
   "cell_type": "code",
   "execution_count": 12,
   "id": "68eb267d",
   "metadata": {
    "execution": {
     "iopub.execute_input": "2023-06-21T21:11:06.413027Z",
     "iopub.status.busy": "2023-06-21T21:11:06.412674Z",
     "iopub.status.idle": "2023-06-21T21:11:41.160659Z",
     "shell.execute_reply": "2023-06-21T21:11:41.159645Z"
    },
    "papermill": {
     "duration": 34.763261,
     "end_time": "2023-06-21T21:11:41.163393",
     "exception": false,
     "start_time": "2023-06-21T21:11:06.400132",
     "status": "completed"
    },
    "tags": []
   },
   "outputs": [],
   "source": [
    "deit_shovel=get_from_hub('https://tfhub.dev/sayakpaul/deit_base_patch16_384_fe/1')\n",
    "deit_aspp=get_from_hub('https://tfhub.dev/sayakpaul/deit_base_patch16_384_fe/1')"
   ]
  },
  {
   "cell_type": "markdown",
   "id": "8da82b54",
   "metadata": {
    "papermill": {
     "duration": 0.011338,
     "end_time": "2023-06-21T21:11:41.186847",
     "exception": false,
     "start_time": "2023-06-21T21:11:41.175509",
     "status": "completed"
    },
    "tags": []
   },
   "source": [
    "# Shovel operator"
   ]
  },
  {
   "cell_type": "code",
   "execution_count": 13,
   "id": "8f51b413",
   "metadata": {
    "execution": {
     "iopub.execute_input": "2023-06-21T21:11:41.213040Z",
     "iopub.status.busy": "2023-06-21T21:11:41.212614Z",
     "iopub.status.idle": "2023-06-21T21:11:41.220374Z",
     "shell.execute_reply": "2023-06-21T21:11:41.219376Z"
    },
    "papermill": {
     "duration": 0.024049,
     "end_time": "2023-06-21T21:11:41.222986",
     "exception": false,
     "start_time": "2023-06-21T21:11:41.198937",
     "status": "completed"
    },
    "tags": []
   },
   "outputs": [],
   "source": [
    "import keras.backend as K\n",
    "def sobel(shape, dtype=None):\n",
    "\n",
    "    f = np.array([\n",
    "            [[[-1],[-1],[-1]], [[0],[0],[0]], [[1],[1],[1]]],\n",
    "            [[[-2],[-2],[-2]], [[0],[0],[0]], [[2],[2],[2]]],\n",
    "            [[[-1],[-1],[-1]], [[0],[0],[0]], [[1],[1],[1]]]\n",
    "        ])\n",
    "\n",
    "    return K.variable(f, dtype='float32')"
   ]
  },
  {
   "cell_type": "markdown",
   "id": "de92fb67",
   "metadata": {
    "papermill": {
     "duration": 0.011815,
     "end_time": "2023-06-21T21:11:41.247618",
     "exception": false,
     "start_time": "2023-06-21T21:11:41.235803",
     "status": "completed"
    },
    "tags": []
   },
   "source": [
    "# Shovel Steam"
   ]
  },
  {
   "cell_type": "code",
   "execution_count": 14,
   "id": "97f568d1",
   "metadata": {
    "execution": {
     "iopub.execute_input": "2023-06-21T21:11:41.277059Z",
     "iopub.status.busy": "2023-06-21T21:11:41.275238Z",
     "iopub.status.idle": "2023-06-21T21:11:41.505281Z",
     "shell.execute_reply": "2023-06-21T21:11:41.504223Z"
    },
    "papermill": {
     "duration": 0.24574,
     "end_time": "2023-06-21T21:11:41.507966",
     "exception": false,
     "start_time": "2023-06-21T21:11:41.262226",
     "status": "completed"
    },
    "tags": []
   },
   "outputs": [],
   "source": [
    "steam1 = Sequential()\n",
    "steam1.add(Conv2D(1, (3, 3),kernel_initializer=sobel, padding='same', input_shape=(size, size, 3), use_bias=False))\n",
    "steam1.layers[0].trainable=False\n",
    "steam1.add(Conv2D(3, (3, 3), padding='same'))\n",
    "\n",
    "shovel_output=deit_shovel(steam1.output)"
   ]
  },
  {
   "cell_type": "markdown",
   "id": "9f20a148",
   "metadata": {
    "papermill": {
     "duration": 0.012352,
     "end_time": "2023-06-21T21:11:41.534206",
     "exception": false,
     "start_time": "2023-06-21T21:11:41.521854",
     "status": "completed"
    },
    "tags": []
   },
   "source": [
    "# CBAM for attention"
   ]
  },
  {
   "cell_type": "code",
   "execution_count": 15,
   "id": "b796da3f",
   "metadata": {
    "execution": {
     "iopub.execute_input": "2023-06-21T21:11:41.560634Z",
     "iopub.status.busy": "2023-06-21T21:11:41.559490Z",
     "iopub.status.idle": "2023-06-21T21:11:41.570427Z",
     "shell.execute_reply": "2023-06-21T21:11:41.569495Z"
    },
    "papermill": {
     "duration": 0.026202,
     "end_time": "2023-06-21T21:11:41.572503",
     "exception": false,
     "start_time": "2023-06-21T21:11:41.546301",
     "status": "completed"
    },
    "tags": []
   },
   "outputs": [],
   "source": [
    "def channel_attention_module(x, ratio=8):\n",
    "    batch, _, _, channel = x.shape\n",
    "\n",
    "    ## Shared layers\n",
    "    l1 = Dense(channel//ratio, activation=\"relu\", use_bias=False)\n",
    "    l2 = Dense(channel, use_bias=False)\n",
    "\n",
    "    ## Global Average Pooling\n",
    "    x1 = GlobalAveragePooling2D()(x)\n",
    "    x1 = l1(x1)\n",
    "    x1 = l2(x1)\n",
    "\n",
    "    ## Global Max Pooling\n",
    "    x2 = GlobalMaxPooling2D()(x)\n",
    "    x2 = l1(x2)\n",
    "    x2 = l2(x2)\n",
    "\n",
    "    ## Add both the features and pass through sigmoid\n",
    "    feats = x1 + x2\n",
    "    feats = Activation(\"sigmoid\")(feats)\n",
    "    feats = Multiply()([x, feats])\n",
    "\n",
    "    return feats\n",
    "\n",
    "def spatial_attention_module(x):\n",
    "    ## Average Pooling\n",
    "    x1 = tf.reduce_mean(x, axis=-1)\n",
    "    x1 = tf.expand_dims(x1, axis=-1)\n",
    "\n",
    "    ## Max Pooling\n",
    "    x2 = tf.reduce_max(x, axis=-1)\n",
    "    x2 = tf.expand_dims(x2, axis=-1)\n",
    "\n",
    "    ## Concatenat both the features\n",
    "    feats = Concatenate()([x1, x2])\n",
    "    ## Conv layer\n",
    "    feats = Conv2D(1, kernel_size=7, padding=\"same\", activation=\"sigmoid\")(feats)\n",
    "    feats = Multiply()([x, feats])\n",
    "\n",
    "    return feats\n",
    "\n",
    "def cbam_block(x):\n",
    "    x = channel_attention_module(x)\n",
    "    x = spatial_attention_module(x)\n",
    "    return x"
   ]
  },
  {
   "cell_type": "markdown",
   "id": "97d26310",
   "metadata": {
    "papermill": {
     "duration": 0.011694,
     "end_time": "2023-06-21T21:11:41.596200",
     "exception": false,
     "start_time": "2023-06-21T21:11:41.584506",
     "status": "completed"
    },
    "tags": []
   },
   "source": [
    "# ASPP block"
   ]
  },
  {
   "cell_type": "code",
   "execution_count": 16,
   "id": "076beec4",
   "metadata": {
    "execution": {
     "iopub.execute_input": "2023-06-21T21:11:41.622617Z",
     "iopub.status.busy": "2023-06-21T21:11:41.621653Z",
     "iopub.status.idle": "2023-06-21T21:11:41.629025Z",
     "shell.execute_reply": "2023-06-21T21:11:41.628005Z"
    },
    "papermill": {
     "duration": 0.023162,
     "end_time": "2023-06-21T21:11:41.631333",
     "exception": false,
     "start_time": "2023-06-21T21:11:41.608171",
     "status": "completed"
    },
    "tags": []
   },
   "outputs": [],
   "source": [
    "def aspp_block(inputs,dilation_rates,features):\n",
    "    outputs = []\n",
    "    for i,dilation_rate in enumerate(dilation_rates):\n",
    "        x = tf.keras.layers.Conv2D(filters= features[i] , kernel_size=3, strides=1, padding=\"same\", dilation_rate=dilation_rate)(inputs)\n",
    "        x = tf.keras.layers.BatchNormalization()(x)\n",
    "        x = tf.keras.layers.ReLU()(x)\n",
    "        outputs.append(x)\n",
    "    x = tf.keras.layers.Concatenate(axis=-1)(outputs)\n",
    "    return x"
   ]
  },
  {
   "cell_type": "markdown",
   "id": "3e1dd3db",
   "metadata": {
    "papermill": {
     "duration": 0.011739,
     "end_time": "2023-06-21T21:11:41.655548",
     "exception": false,
     "start_time": "2023-06-21T21:11:41.643809",
     "status": "completed"
    },
    "tags": []
   },
   "source": [
    "# ASPP-CBAM steam"
   ]
  },
  {
   "cell_type": "code",
   "execution_count": 17,
   "id": "36954ce0",
   "metadata": {
    "execution": {
     "iopub.execute_input": "2023-06-21T21:11:41.683918Z",
     "iopub.status.busy": "2023-06-21T21:11:41.681895Z",
     "iopub.status.idle": "2023-06-21T21:11:42.177631Z",
     "shell.execute_reply": "2023-06-21T21:11:42.175037Z"
    },
    "papermill": {
     "duration": 0.516563,
     "end_time": "2023-06-21T21:11:42.185170",
     "exception": false,
     "start_time": "2023-06-21T21:11:41.668607",
     "status": "completed"
    },
    "tags": []
   },
   "outputs": [],
   "source": [
    "steam2 = Sequential()\n",
    "steam2.add(Input(shape=(size,size,3)))\n",
    "aspp_output= aspp_block(steam2.output, [1,2,3,4,5],[64,32,16,8,4])\n",
    "aspp_output=cbam_block(aspp_output)\n",
    "aspp_output=Conv2D(3, (3, 3), padding='same')(aspp_output)\n",
    "\n",
    "aspp_output=deit_aspp(aspp_output)"
   ]
  },
  {
   "cell_type": "code",
   "execution_count": 18,
   "id": "8ee70214",
   "metadata": {
    "execution": {
     "iopub.execute_input": "2023-06-21T21:11:42.232039Z",
     "iopub.status.busy": "2023-06-21T21:11:42.231525Z",
     "iopub.status.idle": "2023-06-21T21:11:42.335735Z",
     "shell.execute_reply": "2023-06-21T21:11:42.334767Z"
    },
    "papermill": {
     "duration": 0.131569,
     "end_time": "2023-06-21T21:11:42.338115",
     "exception": false,
     "start_time": "2023-06-21T21:11:42.206546",
     "status": "completed"
    },
    "tags": []
   },
   "outputs": [],
   "source": [
    "combined=concatenate([shovel_output[0],aspp_output[0]])\n",
    "x = Dense(512,activation='relu')(combined)\n",
    "x=Dropout(.3)(x)\n",
    "x = Dense(256,activation='relu')(x)\n",
    "x=Dropout(.2)(x)\n",
    "x = Dense(256,activation='relu')(x)\n",
    "output= Dense(len(train_images.class_indices), activation='softmax')(x)\n",
    "model = Model([steam1.input,steam2.input], output)"
   ]
  },
  {
   "cell_type": "code",
   "execution_count": 19,
   "id": "758aa96f",
   "metadata": {
    "execution": {
     "iopub.execute_input": "2023-06-21T21:11:42.374580Z",
     "iopub.status.busy": "2023-06-21T21:11:42.373934Z",
     "iopub.status.idle": "2023-06-21T21:11:42.881808Z",
     "shell.execute_reply": "2023-06-21T21:11:42.880723Z"
    },
    "papermill": {
     "duration": 0.537302,
     "end_time": "2023-06-21T21:11:42.888845",
     "exception": false,
     "start_time": "2023-06-21T21:11:42.351543",
     "status": "completed"
    },
    "tags": []
   },
   "outputs": [
    {
     "name": "stdout",
     "output_type": "stream",
     "text": [
      "trainable parametres: 997040 non trainable parametres: 172181267\n"
     ]
    }
   ],
   "source": [
    "trainable_params = sum([v.numpy().size for v in model.trainable_variables])\n",
    "non_trainable_params = sum([v.numpy().size for v in model.non_trainable_variables])\n",
    "print(\"trainable parametres: \"+ str(trainable_params) + \" non trainable parametres: \"+ str(non_trainable_params))"
   ]
  },
  {
   "cell_type": "code",
   "execution_count": 20,
   "id": "c81267b1",
   "metadata": {
    "execution": {
     "iopub.execute_input": "2023-06-21T21:11:42.924388Z",
     "iopub.status.busy": "2023-06-21T21:11:42.923860Z",
     "iopub.status.idle": "2023-06-21T21:11:42.929619Z",
     "shell.execute_reply": "2023-06-21T21:11:42.928757Z"
    },
    "papermill": {
     "duration": 0.027672,
     "end_time": "2023-06-21T21:11:42.933878",
     "exception": false,
     "start_time": "2023-06-21T21:11:42.906206",
     "status": "completed"
    },
    "tags": []
   },
   "outputs": [],
   "source": [
    "def generator_two_img(gen):\n",
    "    while True:\n",
    "        X1i = gen.next()\n",
    "        yield [X1i[0],X1i[0]], X1i[1]\n"
   ]
  },
  {
   "cell_type": "code",
   "execution_count": 21,
   "id": "3bfbb7d8",
   "metadata": {
    "execution": {
     "iopub.execute_input": "2023-06-21T21:11:42.968539Z",
     "iopub.status.busy": "2023-06-21T21:11:42.967427Z",
     "iopub.status.idle": "2023-06-21T21:11:42.993482Z",
     "shell.execute_reply": "2023-06-21T21:11:42.992616Z"
    },
    "papermill": {
     "duration": 0.045724,
     "end_time": "2023-06-21T21:11:42.996067",
     "exception": false,
     "start_time": "2023-06-21T21:11:42.950343",
     "status": "completed"
    },
    "tags": []
   },
   "outputs": [],
   "source": [
    "model.compile(loss=\"categorical_crossentropy\",optimizer=tf.optimizers.Adam(),metrics=['accuracy'])"
   ]
  },
  {
   "cell_type": "code",
   "execution_count": 22,
   "id": "c84b95b2",
   "metadata": {
    "execution": {
     "iopub.execute_input": "2023-06-21T21:11:43.030426Z",
     "iopub.status.busy": "2023-06-21T21:11:43.029956Z",
     "iopub.status.idle": "2023-06-21T22:00:40.057551Z",
     "shell.execute_reply": "2023-06-21T22:00:40.056118Z"
    },
    "papermill": {
     "duration": 2937.047723,
     "end_time": "2023-06-21T22:00:40.060670",
     "exception": false,
     "start_time": "2023-06-21T21:11:43.012947",
     "status": "completed"
    },
    "tags": []
   },
   "outputs": [
    {
     "name": "stdout",
     "output_type": "stream",
     "text": [
      "Epoch 1/20\n",
      "201/201 [==============================] - 193s 722ms/step - loss: 0.9885 - accuracy: 0.6517 - val_loss: 0.2143 - val_accuracy: 0.9265\n",
      "Epoch 2/20\n",
      "201/201 [==============================] - 142s 705ms/step - loss: 0.4451 - accuracy: 0.8516 - val_loss: 0.1486 - val_accuracy: 0.9412\n",
      "Epoch 3/20\n",
      "201/201 [==============================] - 141s 704ms/step - loss: 0.2800 - accuracy: 0.9052 - val_loss: 0.1155 - val_accuracy: 0.9706\n",
      "Epoch 4/20\n",
      "201/201 [==============================] - 141s 703ms/step - loss: 0.2128 - accuracy: 0.9352 - val_loss: 0.1050 - val_accuracy: 0.9412\n",
      "Epoch 5/20\n",
      "201/201 [==============================] - 141s 701ms/step - loss: 0.2259 - accuracy: 0.9289 - val_loss: 0.0484 - val_accuracy: 0.9853\n",
      "Epoch 6/20\n",
      "201/201 [==============================] - 141s 704ms/step - loss: 0.2351 - accuracy: 0.9302 - val_loss: 0.0434 - val_accuracy: 0.9853\n",
      "Epoch 7/20\n",
      "201/201 [==============================] - 141s 702ms/step - loss: 0.2050 - accuracy: 0.9277 - val_loss: 0.0868 - val_accuracy: 0.9853\n",
      "Epoch 8/20\n",
      "201/201 [==============================] - 142s 706ms/step - loss: 0.2882 - accuracy: 0.9115 - val_loss: 0.0780 - val_accuracy: 0.9853\n",
      "Epoch 9/20\n",
      "201/201 [==============================] - 142s 705ms/step - loss: 0.1135 - accuracy: 0.9601 - val_loss: 0.0447 - val_accuracy: 0.9706\n",
      "Epoch 10/20\n",
      "201/201 [==============================] - 141s 704ms/step - loss: 0.1496 - accuracy: 0.9613 - val_loss: 0.1137 - val_accuracy: 0.9559\n",
      "Epoch 11/20\n",
      "201/201 [==============================] - 142s 704ms/step - loss: 0.2113 - accuracy: 0.9352 - val_loss: 0.0718 - val_accuracy: 0.9559\n",
      "Epoch 12/20\n",
      "201/201 [==============================] - 141s 701ms/step - loss: 0.1198 - accuracy: 0.9663 - val_loss: 0.0294 - val_accuracy: 0.9853\n",
      "Epoch 13/20\n",
      "201/201 [==============================] - 141s 704ms/step - loss: 0.1607 - accuracy: 0.9439 - val_loss: 0.0288 - val_accuracy: 0.9853\n",
      "Epoch 14/20\n",
      "201/201 [==============================] - 142s 704ms/step - loss: 0.2061 - accuracy: 0.9401 - val_loss: 0.0723 - val_accuracy: 0.9853\n",
      "Epoch 15/20\n",
      "201/201 [==============================] - 141s 704ms/step - loss: 0.1207 - accuracy: 0.9564 - val_loss: 0.0336 - val_accuracy: 0.9853\n",
      "Epoch 16/20\n",
      "201/201 [==============================] - 141s 703ms/step - loss: 0.0866 - accuracy: 0.9701 - val_loss: 0.0295 - val_accuracy: 0.9853\n",
      "Epoch 17/20\n",
      "201/201 [==============================] - 141s 704ms/step - loss: 0.1419 - accuracy: 0.9589 - val_loss: 0.0408 - val_accuracy: 0.9706\n",
      "Epoch 18/20\n",
      "201/201 [==============================] - 141s 703ms/step - loss: 0.0709 - accuracy: 0.9776 - val_loss: 0.0213 - val_accuracy: 0.9853\n",
      "Epoch 19/20\n",
      "201/201 [==============================] - 142s 705ms/step - loss: 0.1309 - accuracy: 0.9688 - val_loss: 0.1332 - val_accuracy: 0.9706\n",
      "Epoch 20/20\n",
      "201/201 [==============================] - 142s 705ms/step - loss: 0.1471 - accuracy: 0.9564 - val_loss: 0.1389 - val_accuracy: 0.9265\n"
     ]
    }
   ],
   "source": [
    "history = model.fit(\n",
    "    generator_two_img(train_images),\n",
    "    validation_data=generator_two_img(valid_images),\n",
    "    validation_steps=valid_images.n//batch_size,\n",
    "    validation_batch_size=batch_size,\n",
    "    steps_per_epoch=train_images.n//batch_size,\n",
    "    batch_size=batch_size,\n",
    "    epochs=20,\n",
    ")"
   ]
  },
  {
   "cell_type": "code",
   "execution_count": 23,
   "id": "ed898cdb",
   "metadata": {
    "execution": {
     "iopub.execute_input": "2023-06-21T22:00:40.748422Z",
     "iopub.status.busy": "2023-06-21T22:00:40.748027Z",
     "iopub.status.idle": "2023-06-21T22:00:42.281294Z",
     "shell.execute_reply": "2023-06-21T22:00:42.277376Z"
    },
    "papermill": {
     "duration": 1.878173,
     "end_time": "2023-06-21T22:00:42.284022",
     "exception": false,
     "start_time": "2023-06-21T22:00:40.405849",
     "status": "completed"
    },
    "tags": []
   },
   "outputs": [],
   "source": [
    "model.save('model.h5')"
   ]
  },
  {
   "cell_type": "code",
   "execution_count": 24,
   "id": "fc0e65d5",
   "metadata": {
    "execution": {
     "iopub.execute_input": "2023-06-21T22:00:42.987344Z",
     "iopub.status.busy": "2023-06-21T22:00:42.986941Z",
     "iopub.status.idle": "2023-06-21T22:00:43.380425Z",
     "shell.execute_reply": "2023-06-21T22:00:43.379377Z"
    },
    "papermill": {
     "duration": 0.751331,
     "end_time": "2023-06-21T22:00:43.382820",
     "exception": false,
     "start_time": "2023-06-21T22:00:42.631489",
     "status": "completed"
    },
    "tags": []
   },
   "outputs": [
    {
     "data": {
      "text/plain": [
       "Text(0, 0.5, 'accuracy')"
      ]
     },
     "execution_count": 24,
     "metadata": {},
     "output_type": "execute_result"
    },
    {
     "data": {
      "image/png": "[encoded data removed]",
      "text/plain": [
       "<Figure size 640x480 with 1 Axes>"
      ]
     },
     "metadata": {},
     "output_type": "display_data"
    }
   ],
   "source": [
    "epochs = list(range(len(history.history['accuracy'])))\n",
    "train_acc = history.history['accuracy']\n",
    "train_loss = history.history['val_accuracy']\n",
    "plt.plot(train_acc)\n",
    "plt.plot(train_loss)\n",
    "plt.legend(['train-accuracy','validation-accuracy'], loc='best')\n",
    "plt.xlabel('epoch')\n",
    "plt.ylabel('accuracy')\n",
    "# plt.show()\n"
   ]
  },
  {
   "cell_type": "code",
   "execution_count": 25,
   "id": "3ccb88fe",
   "metadata": {
    "execution": {
     "iopub.execute_input": "2023-06-21T22:00:44.163259Z",
     "iopub.status.busy": "2023-06-21T22:00:44.162618Z",
     "iopub.status.idle": "2023-06-21T22:00:44.622259Z",
     "shell.execute_reply": "2023-06-21T22:00:44.621322Z"
    },
    "papermill": {
     "duration": 0.892161,
     "end_time": "2023-06-21T22:00:44.625245",
     "exception": false,
     "start_time": "2023-06-21T22:00:43.733084",
     "status": "completed"
    },
    "tags": []
   },
   "outputs": [
    {
     "data": {
      "text/plain": [
       "Text(0, 0.5, 'loss')"
      ]
     },
     "execution_count": 25,
     "metadata": {},
     "output_type": "execute_result"
    },
    {
     "data": {
      "image/png": "[encoded data removed]",
      "text/plain": [
       "<Figure size 640x480 with 1 Axes>"
      ]
     },
     "metadata": {},
     "output_type": "display_data"
    }
   ],
   "source": [
    "epochs = list(range(len(history.history['accuracy'])))\n",
    "train_acc = history.history['loss']\n",
    "train_loss = history.history['val_loss']\n",
    "plt.plot(train_acc)\n",
    "plt.plot(train_loss)\n",
    "plt.legend(['train-loss','validation-loss'], loc='best')\n",
    "# plt.show()\n",
    "plt.xlabel('epoch')\n",
    "plt.ylabel('loss')"
   ]
  },
  {
   "cell_type": "code",
   "execution_count": 26,
   "id": "502a4c1f",
   "metadata": {
    "execution": {
     "iopub.execute_input": "2023-06-21T22:00:45.670975Z",
     "iopub.status.busy": "2023-06-21T22:00:45.670527Z",
     "iopub.status.idle": "2023-06-21T22:00:45.677865Z",
     "shell.execute_reply": "2023-06-21T22:00:45.676612Z"
    },
    "papermill": {
     "duration": 0.561341,
     "end_time": "2023-06-21T22:00:45.680155",
     "exception": false,
     "start_time": "2023-06-21T22:00:45.118814",
     "status": "completed"
    },
    "tags": []
   },
   "outputs": [],
   "source": [
    "class_=train_images.class_indices.keys()\n",
    "def prediction_generator(test_images):\n",
    "    k=0\n",
    "    for x in test_images:\n",
    "        k+=len(x[1])\n",
    "        yield [x[0],x[0]], x[1]\n",
    "        if(k>=test_images.n):\n",
    "            break"
   ]
  },
  {
   "cell_type": "markdown",
   "id": "e07e80c2",
   "metadata": {
    "papermill": {
     "duration": 0.351704,
     "end_time": "2023-06-21T22:00:46.395576",
     "exception": false,
     "start_time": "2023-06-21T22:00:46.043872",
     "status": "completed"
    },
    "tags": []
   },
   "source": [
    "# Validation Results"
   ]
  },
  {
   "cell_type": "code",
   "execution_count": 27,
   "id": "cfed2419",
   "metadata": {
    "execution": {
     "iopub.execute_input": "2023-06-21T22:00:47.109109Z",
     "iopub.status.busy": "2023-06-21T22:00:47.108675Z",
     "iopub.status.idle": "2023-06-21T22:00:57.340545Z",
     "shell.execute_reply": "2023-06-21T22:00:57.339242Z"
    },
    "papermill": {
     "duration": 10.581046,
     "end_time": "2023-06-21T22:00:57.343265",
     "exception": false,
     "start_time": "2023-06-21T22:00:46.762219",
     "status": "completed"
    },
    "tags": []
   },
   "outputs": [
    {
     "name": "stdout",
     "output_type": "stream",
     "text": [
      "18/18 [==============================] - 9s 313ms/step\n",
      "acc:  0.9285714285714286\n",
      "preci:  0.9330929487179487\n",
      "recall:  0.9330357142857143\n",
      "f1:  0.9298611111111111\n",
      "mcc:  0.9172849010543946\n"
     ]
    }
   ],
   "source": [
    "from sklearn.metrics import accuracy_score,precision_score,recall_score,f1_score,matthews_corrcoef\n",
    "proba=model.predict(prediction_generator(valid_images))\n",
    "predicted = np.argmax(proba,axis=1)\n",
    "true=valid_images.labels\n",
    "print(\"acc: \", accuracy_score(predicted, true))\n",
    "print(\"preci: \", precision_score(predicted, true,average='macro'))\n",
    "print(\"recall: \", recall_score(predicted, true,average='macro'))\n",
    "print(\"f1: \", f1_score(predicted, true,average='macro'))\n",
    "print(\"mcc: \", matthews_corrcoef(predicted, true))"
   ]
  },
  {
   "cell_type": "markdown",
   "id": "bd273159",
   "metadata": {
    "papermill": {
     "duration": 0.364171,
     "end_time": "2023-06-21T22:00:58.078994",
     "exception": false,
     "start_time": "2023-06-21T22:00:57.714823",
     "status": "completed"
    },
    "tags": []
   },
   "source": [
    "# Test Results"
   ]
  },
  {
   "cell_type": "code",
   "execution_count": 28,
   "id": "5a93c642",
   "metadata": {
    "execution": {
     "iopub.execute_input": "2023-06-21T22:00:58.784876Z",
     "iopub.status.busy": "2023-06-21T22:00:58.784462Z",
     "iopub.status.idle": "2023-06-21T22:01:11.604320Z",
     "shell.execute_reply": "2023-06-21T22:01:11.602193Z"
    },
    "papermill": {
     "duration": 13.174155,
     "end_time": "2023-06-21T22:01:11.606914",
     "exception": false,
     "start_time": "2023-06-21T22:00:58.432759",
     "status": "completed"
    },
    "tags": []
   },
   "outputs": [
    {
     "name": "stdout",
     "output_type": "stream",
     "text": [
      "44/44 [==============================] - 13s 288ms/step\n",
      "acc:  0.96\n",
      "preci:  0.9664772727272728\n",
      "recall:  0.9670138888888888\n",
      "f1:  0.9645769337856527\n",
      "mcc:  0.9547568576660498\n"
     ]
    }
   ],
   "source": [
    "from sklearn.metrics import accuracy_score,precision_score,recall_score,f1_score,matthews_corrcoef\n",
    "proba=model.predict(prediction_generator(test_images))\n",
    "predicted = np.argmax(proba,axis=1)\n",
    "true=test_images.labels\n",
    "print(\"acc: \", accuracy_score(predicted, true))\n",
    "print(\"preci: \", precision_score(predicted, true,average='macro'))\n",
    "print(\"recall: \", recall_score(predicted, true,average='macro'))\n",
    "print(\"f1: \", f1_score(predicted, true,average='macro'))\n",
    "print(\"mcc: \", matthews_corrcoef(predicted, true))"
   ]
  },
  {
   "cell_type": "code",
   "execution_count": 29,
   "id": "75c09c15",
   "metadata": {
    "execution": {
     "iopub.execute_input": "2023-06-21T22:01:12.461448Z",
     "iopub.status.busy": "2023-06-21T22:01:12.461068Z",
     "iopub.status.idle": "2023-06-21T22:01:13.447920Z",
     "shell.execute_reply": "2023-06-21T22:01:13.446923Z"
    },
    "papermill": {
     "duration": 1.461972,
     "end_time": "2023-06-21T22:01:13.450876",
     "exception": false,
     "start_time": "2023-06-21T22:01:11.988904",
     "status": "completed"
    },
    "tags": []
   },
   "outputs": [
    {
     "data": {
      "image/png": "[encoded data removed]",
      "text/plain": [
       "<Figure size 600x500 with 2 Axes>"
      ]
     },
     "metadata": {},
     "output_type": "display_data"
    }
   ],
   "source": [
    "from sklearn.metrics import confusion_matrix\n",
    "import seaborn as sns\n",
    "class_=test_images.class_indices.keys()\n",
    "cm = confusion_matrix(true, predicted)\n",
    "fig = plt.figure(figsize=(6, 5))\n",
    "ax= plt.subplot()\n",
    "sns.heatmap(cm, annot=True, ax = ax,cmap=\"Blues\"); \n",
    "ax.set_xlabel('Predicted', fontsize=20)\n",
    "ax.xaxis.set_label_position('bottom')\n",
    "plt.xticks(rotation=90)\n",
    "ax.xaxis.set_ticklabels(class_, fontsize = 10)\n",
    "ax.xaxis.tick_bottom()\n",
    "\n",
    "ax.set_ylabel('True', fontsize=20)\n",
    "ax.yaxis.set_ticklabels(class_, fontsize = 10)\n",
    "plt.yticks(rotation=0)\n",
    "\n",
    "plt.title('', fontsize=60)\n",
    "\n",
    "plt.savefig('ConMat24.png')\n",
    "plt.show()"
   ]
  },
  {
   "cell_type": "code",
   "execution_count": 30,
   "id": "8b386ceb",
   "metadata": {
    "execution": {
     "iopub.execute_input": "2023-06-21T22:01:14.152729Z",
     "iopub.status.busy": "2023-06-21T22:01:14.152359Z",
     "iopub.status.idle": "2023-06-21T22:01:14.595015Z",
     "shell.execute_reply": "2023-06-21T22:01:14.593923Z"
    },
    "papermill": {
     "duration": 0.793746,
     "end_time": "2023-06-21T22:01:14.597532",
     "exception": false,
     "start_time": "2023-06-21T22:01:13.803786",
     "status": "completed"
    },
    "tags": []
   },
   "outputs": [
    {
     "name": "stderr",
     "output_type": "stream",
     "text": [
      "/tmp/ipykernel_24/1366517963.py:35: MatplotlibDeprecationWarning: The get_cmap function was deprecated in Matplotlib 3.7 and will be removed two minor releases later. Use ``matplotlib.colormaps[name]`` or ``matplotlib.colormaps.get_cmap(obj)`` instead.\n",
      "  cmap = cm.get_cmap('tab10')\n"
     ]
    },
    {
     "data": {
      "image/png": "[encoded data removed]",
      "text/plain": [
       "<Figure size 600x500 with 1 Axes>"
      ]
     },
     "metadata": {},
     "output_type": "display_data"
    }
   ],
   "source": [
    "from sklearn.metrics import roc_curve, roc_auc_score\n",
    "from matplotlib import cm\n",
    "n=len(true)\n",
    "dim=max(true)+1\n",
    "result=[]\n",
    "for i in true:\n",
    "    result.append([0 for i in range(dim)])\n",
    "    result[len(result)-1][i]=1\n",
    "    \n",
    "    \n",
    "fpr = dict()\n",
    "tpr = dict()\n",
    "roc_auc = dict()\n",
    "n_classes =len(test_images.class_indices.keys())\n",
    "y_test=np.array(result)\n",
    "y_pred=np.array(proba)\n",
    "fpr = dict()\n",
    "tpr = dict()\n",
    "roc_auc = dict()\n",
    "\n",
    "rev={}\n",
    "for i in class_:\n",
    "    rev[train_images.class_indices[i]]=i\n",
    "\n",
    "\n",
    "for i in range(n_classes):\n",
    "    fpr[i], tpr[i], _ = roc_curve(y_test[:, i], y_pred[:, i])\n",
    "    roc_auc[i] = roc_auc_score(y_test[:, i], y_pred[:, i])\n",
    "\n",
    "\n",
    "fpr[\"micro\"], tpr[\"micro\"], _ = roc_curve(y_test.ravel(), y_pred.ravel())\n",
    "roc_auc[\"micro\"] = roc_auc_score(y_test, y_pred, multi_class='ovr')\n",
    "\n",
    "\n",
    "cmap = cm.get_cmap('tab10')\n",
    "\n",
    "# Plot the ROC curve for each class and micro-average with automatic color selection\n",
    "plt.figure(figsize=(6,5))\n",
    "lw = 2\n",
    "for i in range(n_classes):\n",
    "    color = cmap(i)\n",
    "    plt.plot(fpr[i], tpr[i], color=color, lw=lw,\n",
    "             label='{0} (area = {1:0.2f})'\n",
    "             ''.format(rev[i], roc_auc[i]))\n",
    "\n",
    "plt.plot(fpr[\"micro\"], tpr[\"micro\"],\n",
    "         label='micro-average ROC curve (area = {0:0.2f})'\n",
    "         ''.format(roc_auc[\"micro\"]),\n",
    "         color=cmap(n_classes), linestyle=':', linewidth=4)\n",
    "\n",
    "plt.plot([0, 1], [0, 1], 'k--', lw=lw)\n",
    "plt.xlim([0.0, 1.0])\n",
    "plt.ylim([0.0, 1.05])\n",
    "plt.xlabel('False Positive Rate')\n",
    "plt.ylabel('True Positive Rate')\n",
    "plt.title('ROC Curve')\n",
    "plt.legend(loc=\"lower right\")\n",
    "plt.show()"
   ]
  }
 ],
 "metadata": {
  "kernelspec": {
   "display_name": "Python 3",
   "language": "python",
   "name": "python3"
  },
  "language_info": {
   "codemirror_mode": {
    "name": "ipython",
    "version": 3
   },
   "file_extension": ".py",
   "mimetype": "text/x-python",
   "name": "python",
   "nbconvert_exporter": "python",
   "pygments_lexer": "ipython3",
   "version": "3.10.10"
  },
  "papermill": {
   "default_parameters": {},
   "duration": 3032.701873,
   "end_time": "2023-06-21T22:01:17.941832",
   "environment_variables": {},
   "exception": null,
   "input_path": "__notebook__.ipynb",
   "output_path": "__notebook__.ipynb",
   "parameters": {},
   "start_time": "2023-06-21T21:10:45.239959",
   "version": "2.4.0"
  }
 },
 "nbformat": 4,
 "nbformat_minor": 5
}
